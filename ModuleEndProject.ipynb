{
 "cells": [
  {
   "cell_type": "markdown",
   "id": "893f7ab4-e289-4db7-8b54-887e073ba823",
   "metadata": {},
   "source": [
    "**Module End Project<br>**\n",
    "Here Providing a dataset of employees working in ABC company. It consists of 458 rows and 9 columns. The company needs the detailed report and explanation of their employees in each team, also need to identify the following:<br>\r",
    "1.How many are there in each Team and the percentage splitting with respect to the total employees.<br>2.Segregate the employees w.r.t different positions.<br>\n",
    "3.Find from which age group most of the employees belong to.<br>\r\n",
    "4.Find out under which team and position, spending in terms of salary is igh.h<br.\r\n",
    "5.Find if there is any correlation between age and salary , represent it vially.su<by.\r\n",
    "Before doing the above questions,perform pre processing of the dataset. Also, the column height is having incorrect data, changing the data of that particular column with any random numbers betw 150 and 180.set\r\n"
   ]
  },
  {
   "cell_type": "code",
   "execution_count": 1,
   "id": "609e1b9f-92de-4b49-bd12-b19fefe3211a",
   "metadata": {},
   "outputs": [],
   "source": [
    "import numpy as np\n",
    "import pandas as pd\n",
    "import matplotlib.pyplot as plt\n",
    "import seaborn as sns"
   ]
  },
  {
   "cell_type": "code",
   "execution_count": 7,
   "id": "9c9770ce-f1bb-4609-bfe6-6ee3d8cfdfb6",
   "metadata": {},
   "outputs": [
    {
     "data": {
      "text/html": [
       "<div>\n",
       "<style scoped>\n",
       "    .dataframe tbody tr th:only-of-type {\n",
       "        vertical-align: middle;\n",
       "    }\n",
       "\n",
       "    .dataframe tbody tr th {\n",
       "        vertical-align: top;\n",
       "    }\n",
       "\n",
       "    .dataframe thead th {\n",
       "        text-align: right;\n",
       "    }\n",
       "</style>\n",
       "<table border=\"1\" class=\"dataframe\">\n",
       "  <thead>\n",
       "    <tr style=\"text-align: right;\">\n",
       "      <th></th>\n",
       "      <th>Name</th>\n",
       "      <th>Team</th>\n",
       "      <th>Number</th>\n",
       "      <th>Position</th>\n",
       "      <th>Age</th>\n",
       "      <th>Height</th>\n",
       "      <th>Weight</th>\n",
       "      <th>College</th>\n",
       "      <th>Salary</th>\n",
       "    </tr>\n",
       "  </thead>\n",
       "  <tbody>\n",
       "    <tr>\n",
       "      <th>0</th>\n",
       "      <td>Avery Bradley</td>\n",
       "      <td>Boston Celtics</td>\n",
       "      <td>0</td>\n",
       "      <td>PG</td>\n",
       "      <td>25</td>\n",
       "      <td>06-Feb</td>\n",
       "      <td>180</td>\n",
       "      <td>Texas</td>\n",
       "      <td>7730337.0</td>\n",
       "    </tr>\n",
       "    <tr>\n",
       "      <th>1</th>\n",
       "      <td>Jae Crowder</td>\n",
       "      <td>Boston Celtics</td>\n",
       "      <td>99</td>\n",
       "      <td>SF</td>\n",
       "      <td>25</td>\n",
       "      <td>06-Jun</td>\n",
       "      <td>235</td>\n",
       "      <td>Marquette</td>\n",
       "      <td>6796117.0</td>\n",
       "    </tr>\n",
       "    <tr>\n",
       "      <th>2</th>\n",
       "      <td>John Holland</td>\n",
       "      <td>Boston Celtics</td>\n",
       "      <td>30</td>\n",
       "      <td>SG</td>\n",
       "      <td>27</td>\n",
       "      <td>06-May</td>\n",
       "      <td>205</td>\n",
       "      <td>Boston University</td>\n",
       "      <td>NaN</td>\n",
       "    </tr>\n",
       "    <tr>\n",
       "      <th>3</th>\n",
       "      <td>R.J. Hunter</td>\n",
       "      <td>Boston Celtics</td>\n",
       "      <td>28</td>\n",
       "      <td>SG</td>\n",
       "      <td>22</td>\n",
       "      <td>06-May</td>\n",
       "      <td>185</td>\n",
       "      <td>Georgia State</td>\n",
       "      <td>1148640.0</td>\n",
       "    </tr>\n",
       "    <tr>\n",
       "      <th>4</th>\n",
       "      <td>Jonas Jerebko</td>\n",
       "      <td>Boston Celtics</td>\n",
       "      <td>8</td>\n",
       "      <td>PF</td>\n",
       "      <td>29</td>\n",
       "      <td>06-Oct</td>\n",
       "      <td>231</td>\n",
       "      <td>NaN</td>\n",
       "      <td>5000000.0</td>\n",
       "    </tr>\n",
       "    <tr>\n",
       "      <th>...</th>\n",
       "      <td>...</td>\n",
       "      <td>...</td>\n",
       "      <td>...</td>\n",
       "      <td>...</td>\n",
       "      <td>...</td>\n",
       "      <td>...</td>\n",
       "      <td>...</td>\n",
       "      <td>...</td>\n",
       "      <td>...</td>\n",
       "    </tr>\n",
       "    <tr>\n",
       "      <th>453</th>\n",
       "      <td>Shelvin Mack</td>\n",
       "      <td>Utah Jazz</td>\n",
       "      <td>8</td>\n",
       "      <td>PG</td>\n",
       "      <td>26</td>\n",
       "      <td>06-Mar</td>\n",
       "      <td>203</td>\n",
       "      <td>Butler</td>\n",
       "      <td>2433333.0</td>\n",
       "    </tr>\n",
       "    <tr>\n",
       "      <th>454</th>\n",
       "      <td>Raul Neto</td>\n",
       "      <td>Utah Jazz</td>\n",
       "      <td>25</td>\n",
       "      <td>PG</td>\n",
       "      <td>24</td>\n",
       "      <td>06-Jan</td>\n",
       "      <td>179</td>\n",
       "      <td>NaN</td>\n",
       "      <td>900000.0</td>\n",
       "    </tr>\n",
       "    <tr>\n",
       "      <th>455</th>\n",
       "      <td>Tibor Pleiss</td>\n",
       "      <td>Utah Jazz</td>\n",
       "      <td>21</td>\n",
       "      <td>C</td>\n",
       "      <td>26</td>\n",
       "      <td>07-Mar</td>\n",
       "      <td>256</td>\n",
       "      <td>NaN</td>\n",
       "      <td>2900000.0</td>\n",
       "    </tr>\n",
       "    <tr>\n",
       "      <th>456</th>\n",
       "      <td>Jeff Withey</td>\n",
       "      <td>Utah Jazz</td>\n",
       "      <td>24</td>\n",
       "      <td>C</td>\n",
       "      <td>26</td>\n",
       "      <td>7-0</td>\n",
       "      <td>231</td>\n",
       "      <td>Kansas</td>\n",
       "      <td>947276.0</td>\n",
       "    </tr>\n",
       "    <tr>\n",
       "      <th>457</th>\n",
       "      <td>Priyanka</td>\n",
       "      <td>Utah Jazz</td>\n",
       "      <td>34</td>\n",
       "      <td>C</td>\n",
       "      <td>25</td>\n",
       "      <td>07-Mar</td>\n",
       "      <td>231</td>\n",
       "      <td>Kansas</td>\n",
       "      <td>947276.0</td>\n",
       "    </tr>\n",
       "  </tbody>\n",
       "</table>\n",
       "<p>458 rows × 9 columns</p>\n",
       "</div>"
      ],
      "text/plain": [
       "              Name            Team  Number Position  Age  Height  Weight  \\\n",
       "0    Avery Bradley  Boston Celtics       0       PG   25  06-Feb     180   \n",
       "1      Jae Crowder  Boston Celtics      99       SF   25  06-Jun     235   \n",
       "2     John Holland  Boston Celtics      30       SG   27  06-May     205   \n",
       "3      R.J. Hunter  Boston Celtics      28       SG   22  06-May     185   \n",
       "4    Jonas Jerebko  Boston Celtics       8       PF   29  06-Oct     231   \n",
       "..             ...             ...     ...      ...  ...     ...     ...   \n",
       "453   Shelvin Mack       Utah Jazz       8       PG   26  06-Mar     203   \n",
       "454      Raul Neto       Utah Jazz      25       PG   24  06-Jan     179   \n",
       "455   Tibor Pleiss       Utah Jazz      21        C   26  07-Mar     256   \n",
       "456    Jeff Withey       Utah Jazz      24        C   26     7-0     231   \n",
       "457       Priyanka       Utah Jazz      34        C   25  07-Mar     231   \n",
       "\n",
       "               College     Salary  \n",
       "0                Texas  7730337.0  \n",
       "1            Marquette  6796117.0  \n",
       "2    Boston University        NaN  \n",
       "3        Georgia State  1148640.0  \n",
       "4                  NaN  5000000.0  \n",
       "..                 ...        ...  \n",
       "453             Butler  2433333.0  \n",
       "454                NaN   900000.0  \n",
       "455                NaN  2900000.0  \n",
       "456             Kansas   947276.0  \n",
       "457             Kansas   947276.0  \n",
       "\n",
       "[458 rows x 9 columns]"
      ]
     },
     "execution_count": 7,
     "metadata": {},
     "output_type": "execute_result"
    }
   ],
   "source": [
    "df= pd.read_csv('myexcel.csv')\n",
    "df"
   ]
  },
  {
   "cell_type": "code",
   "execution_count": 8,
   "id": "1e0a1422-915b-4c4d-b90d-bda051893f6d",
   "metadata": {},
   "outputs": [
    {
     "data": {
      "text/plain": [
       "(458, 9)"
      ]
     },
     "execution_count": 8,
     "metadata": {},
     "output_type": "execute_result"
    }
   ],
   "source": [
    "df.shape"
   ]
  },
  {
   "cell_type": "code",
   "execution_count": 9,
   "id": "c8545d78-af0a-4029-8aa1-0cd05e728b05",
   "metadata": {},
   "outputs": [
    {
     "data": {
      "text/html": [
       "<div>\n",
       "<style scoped>\n",
       "    .dataframe tbody tr th:only-of-type {\n",
       "        vertical-align: middle;\n",
       "    }\n",
       "\n",
       "    .dataframe tbody tr th {\n",
       "        vertical-align: top;\n",
       "    }\n",
       "\n",
       "    .dataframe thead th {\n",
       "        text-align: right;\n",
       "    }\n",
       "</style>\n",
       "<table border=\"1\" class=\"dataframe\">\n",
       "  <thead>\n",
       "    <tr style=\"text-align: right;\">\n",
       "      <th></th>\n",
       "      <th>Name</th>\n",
       "      <th>Team</th>\n",
       "      <th>Number</th>\n",
       "      <th>Position</th>\n",
       "      <th>Age</th>\n",
       "      <th>Height</th>\n",
       "      <th>Weight</th>\n",
       "      <th>College</th>\n",
       "      <th>Salary</th>\n",
       "    </tr>\n",
       "  </thead>\n",
       "  <tbody>\n",
       "    <tr>\n",
       "      <th>0</th>\n",
       "      <td>Avery Bradley</td>\n",
       "      <td>Boston Celtics</td>\n",
       "      <td>0</td>\n",
       "      <td>PG</td>\n",
       "      <td>25</td>\n",
       "      <td>06-Feb</td>\n",
       "      <td>180</td>\n",
       "      <td>Texas</td>\n",
       "      <td>7730337.0</td>\n",
       "    </tr>\n",
       "    <tr>\n",
       "      <th>1</th>\n",
       "      <td>Jae Crowder</td>\n",
       "      <td>Boston Celtics</td>\n",
       "      <td>99</td>\n",
       "      <td>SF</td>\n",
       "      <td>25</td>\n",
       "      <td>06-Jun</td>\n",
       "      <td>235</td>\n",
       "      <td>Marquette</td>\n",
       "      <td>6796117.0</td>\n",
       "    </tr>\n",
       "    <tr>\n",
       "      <th>2</th>\n",
       "      <td>John Holland</td>\n",
       "      <td>Boston Celtics</td>\n",
       "      <td>30</td>\n",
       "      <td>SG</td>\n",
       "      <td>27</td>\n",
       "      <td>06-May</td>\n",
       "      <td>205</td>\n",
       "      <td>Boston University</td>\n",
       "      <td>NaN</td>\n",
       "    </tr>\n",
       "    <tr>\n",
       "      <th>3</th>\n",
       "      <td>R.J. Hunter</td>\n",
       "      <td>Boston Celtics</td>\n",
       "      <td>28</td>\n",
       "      <td>SG</td>\n",
       "      <td>22</td>\n",
       "      <td>06-May</td>\n",
       "      <td>185</td>\n",
       "      <td>Georgia State</td>\n",
       "      <td>1148640.0</td>\n",
       "    </tr>\n",
       "    <tr>\n",
       "      <th>4</th>\n",
       "      <td>Jonas Jerebko</td>\n",
       "      <td>Boston Celtics</td>\n",
       "      <td>8</td>\n",
       "      <td>PF</td>\n",
       "      <td>29</td>\n",
       "      <td>06-Oct</td>\n",
       "      <td>231</td>\n",
       "      <td>NaN</td>\n",
       "      <td>5000000.0</td>\n",
       "    </tr>\n",
       "  </tbody>\n",
       "</table>\n",
       "</div>"
      ],
      "text/plain": [
       "            Name            Team  Number Position  Age  Height  Weight  \\\n",
       "0  Avery Bradley  Boston Celtics       0       PG   25  06-Feb     180   \n",
       "1    Jae Crowder  Boston Celtics      99       SF   25  06-Jun     235   \n",
       "2   John Holland  Boston Celtics      30       SG   27  06-May     205   \n",
       "3    R.J. Hunter  Boston Celtics      28       SG   22  06-May     185   \n",
       "4  Jonas Jerebko  Boston Celtics       8       PF   29  06-Oct     231   \n",
       "\n",
       "             College     Salary  \n",
       "0              Texas  7730337.0  \n",
       "1          Marquette  6796117.0  \n",
       "2  Boston University        NaN  \n",
       "3      Georgia State  1148640.0  \n",
       "4                NaN  5000000.0  "
      ]
     },
     "execution_count": 9,
     "metadata": {},
     "output_type": "execute_result"
    }
   ],
   "source": [
    "df.head()"
   ]
  },
  {
   "cell_type": "code",
   "execution_count": 10,
   "id": "07201c01-e8b7-4122-9764-528037f61f8c",
   "metadata": {},
   "outputs": [
    {
     "data": {
      "text/html": [
       "<div>\n",
       "<style scoped>\n",
       "    .dataframe tbody tr th:only-of-type {\n",
       "        vertical-align: middle;\n",
       "    }\n",
       "\n",
       "    .dataframe tbody tr th {\n",
       "        vertical-align: top;\n",
       "    }\n",
       "\n",
       "    .dataframe thead th {\n",
       "        text-align: right;\n",
       "    }\n",
       "</style>\n",
       "<table border=\"1\" class=\"dataframe\">\n",
       "  <thead>\n",
       "    <tr style=\"text-align: right;\">\n",
       "      <th></th>\n",
       "      <th>Name</th>\n",
       "      <th>Team</th>\n",
       "      <th>Number</th>\n",
       "      <th>Position</th>\n",
       "      <th>Age</th>\n",
       "      <th>Height</th>\n",
       "      <th>Weight</th>\n",
       "      <th>College</th>\n",
       "      <th>Salary</th>\n",
       "    </tr>\n",
       "  </thead>\n",
       "  <tbody>\n",
       "    <tr>\n",
       "      <th>453</th>\n",
       "      <td>Shelvin Mack</td>\n",
       "      <td>Utah Jazz</td>\n",
       "      <td>8</td>\n",
       "      <td>PG</td>\n",
       "      <td>26</td>\n",
       "      <td>06-Mar</td>\n",
       "      <td>203</td>\n",
       "      <td>Butler</td>\n",
       "      <td>2433333.0</td>\n",
       "    </tr>\n",
       "    <tr>\n",
       "      <th>454</th>\n",
       "      <td>Raul Neto</td>\n",
       "      <td>Utah Jazz</td>\n",
       "      <td>25</td>\n",
       "      <td>PG</td>\n",
       "      <td>24</td>\n",
       "      <td>06-Jan</td>\n",
       "      <td>179</td>\n",
       "      <td>NaN</td>\n",
       "      <td>900000.0</td>\n",
       "    </tr>\n",
       "    <tr>\n",
       "      <th>455</th>\n",
       "      <td>Tibor Pleiss</td>\n",
       "      <td>Utah Jazz</td>\n",
       "      <td>21</td>\n",
       "      <td>C</td>\n",
       "      <td>26</td>\n",
       "      <td>07-Mar</td>\n",
       "      <td>256</td>\n",
       "      <td>NaN</td>\n",
       "      <td>2900000.0</td>\n",
       "    </tr>\n",
       "    <tr>\n",
       "      <th>456</th>\n",
       "      <td>Jeff Withey</td>\n",
       "      <td>Utah Jazz</td>\n",
       "      <td>24</td>\n",
       "      <td>C</td>\n",
       "      <td>26</td>\n",
       "      <td>7-0</td>\n",
       "      <td>231</td>\n",
       "      <td>Kansas</td>\n",
       "      <td>947276.0</td>\n",
       "    </tr>\n",
       "    <tr>\n",
       "      <th>457</th>\n",
       "      <td>Priyanka</td>\n",
       "      <td>Utah Jazz</td>\n",
       "      <td>34</td>\n",
       "      <td>C</td>\n",
       "      <td>25</td>\n",
       "      <td>07-Mar</td>\n",
       "      <td>231</td>\n",
       "      <td>Kansas</td>\n",
       "      <td>947276.0</td>\n",
       "    </tr>\n",
       "  </tbody>\n",
       "</table>\n",
       "</div>"
      ],
      "text/plain": [
       "             Name       Team  Number Position  Age  Height  Weight College  \\\n",
       "453  Shelvin Mack  Utah Jazz       8       PG   26  06-Mar     203  Butler   \n",
       "454     Raul Neto  Utah Jazz      25       PG   24  06-Jan     179     NaN   \n",
       "455  Tibor Pleiss  Utah Jazz      21        C   26  07-Mar     256     NaN   \n",
       "456   Jeff Withey  Utah Jazz      24        C   26     7-0     231  Kansas   \n",
       "457      Priyanka  Utah Jazz      34        C   25  07-Mar     231  Kansas   \n",
       "\n",
       "        Salary  \n",
       "453  2433333.0  \n",
       "454   900000.0  \n",
       "455  2900000.0  \n",
       "456   947276.0  \n",
       "457   947276.0  "
      ]
     },
     "execution_count": 10,
     "metadata": {},
     "output_type": "execute_result"
    }
   ],
   "source": [
    "df.tail()"
   ]
  },
  {
   "cell_type": "code",
   "execution_count": 11,
   "id": "1bf7a370-9324-493a-8060-3b4ab58e3a7a",
   "metadata": {},
   "outputs": [
    {
     "name": "stdout",
     "output_type": "stream",
     "text": [
      "<class 'pandas.core.frame.DataFrame'>\n",
      "RangeIndex: 458 entries, 0 to 457\n",
      "Data columns (total 9 columns):\n",
      " #   Column    Non-Null Count  Dtype  \n",
      "---  ------    --------------  -----  \n",
      " 0   Name      458 non-null    object \n",
      " 1   Team      458 non-null    object \n",
      " 2   Number    458 non-null    int64  \n",
      " 3   Position  458 non-null    object \n",
      " 4   Age       458 non-null    int64  \n",
      " 5   Height    458 non-null    object \n",
      " 6   Weight    458 non-null    int64  \n",
      " 7   College   374 non-null    object \n",
      " 8   Salary    447 non-null    float64\n",
      "dtypes: float64(1), int64(3), object(5)\n",
      "memory usage: 32.3+ KB\n"
     ]
    }
   ],
   "source": [
    "df.info()"
   ]
  },
  {
   "cell_type": "code",
   "execution_count": 12,
   "id": "3f7aebf7-3f1a-4e20-84b6-63bbf8be20f8",
   "metadata": {},
   "outputs": [
    {
     "data": {
      "text/html": [
       "<div>\n",
       "<style scoped>\n",
       "    .dataframe tbody tr th:only-of-type {\n",
       "        vertical-align: middle;\n",
       "    }\n",
       "\n",
       "    .dataframe tbody tr th {\n",
       "        vertical-align: top;\n",
       "    }\n",
       "\n",
       "    .dataframe thead th {\n",
       "        text-align: right;\n",
       "    }\n",
       "</style>\n",
       "<table border=\"1\" class=\"dataframe\">\n",
       "  <thead>\n",
       "    <tr style=\"text-align: right;\">\n",
       "      <th></th>\n",
       "      <th>Name</th>\n",
       "      <th>Team</th>\n",
       "      <th>Number</th>\n",
       "      <th>Position</th>\n",
       "      <th>Age</th>\n",
       "      <th>Height</th>\n",
       "      <th>Weight</th>\n",
       "      <th>College</th>\n",
       "      <th>Salary</th>\n",
       "    </tr>\n",
       "  </thead>\n",
       "  <tbody>\n",
       "    <tr>\n",
       "      <th>count</th>\n",
       "      <td>458</td>\n",
       "      <td>458</td>\n",
       "      <td>458.000000</td>\n",
       "      <td>458</td>\n",
       "      <td>458.000000</td>\n",
       "      <td>458</td>\n",
       "      <td>458.000000</td>\n",
       "      <td>374</td>\n",
       "      <td>4.470000e+02</td>\n",
       "    </tr>\n",
       "    <tr>\n",
       "      <th>unique</th>\n",
       "      <td>458</td>\n",
       "      <td>30</td>\n",
       "      <td>NaN</td>\n",
       "      <td>5</td>\n",
       "      <td>NaN</td>\n",
       "      <td>18</td>\n",
       "      <td>NaN</td>\n",
       "      <td>118</td>\n",
       "      <td>NaN</td>\n",
       "    </tr>\n",
       "    <tr>\n",
       "      <th>top</th>\n",
       "      <td>Avery Bradley</td>\n",
       "      <td>New Orleans Pelicans</td>\n",
       "      <td>NaN</td>\n",
       "      <td>SG</td>\n",
       "      <td>NaN</td>\n",
       "      <td>06-Sep</td>\n",
       "      <td>NaN</td>\n",
       "      <td>Kentucky</td>\n",
       "      <td>NaN</td>\n",
       "    </tr>\n",
       "    <tr>\n",
       "      <th>freq</th>\n",
       "      <td>1</td>\n",
       "      <td>19</td>\n",
       "      <td>NaN</td>\n",
       "      <td>102</td>\n",
       "      <td>NaN</td>\n",
       "      <td>59</td>\n",
       "      <td>NaN</td>\n",
       "      <td>22</td>\n",
       "      <td>NaN</td>\n",
       "    </tr>\n",
       "    <tr>\n",
       "      <th>mean</th>\n",
       "      <td>NaN</td>\n",
       "      <td>NaN</td>\n",
       "      <td>17.713974</td>\n",
       "      <td>NaN</td>\n",
       "      <td>26.934498</td>\n",
       "      <td>NaN</td>\n",
       "      <td>221.543668</td>\n",
       "      <td>NaN</td>\n",
       "      <td>4.833970e+06</td>\n",
       "    </tr>\n",
       "    <tr>\n",
       "      <th>std</th>\n",
       "      <td>NaN</td>\n",
       "      <td>NaN</td>\n",
       "      <td>15.966837</td>\n",
       "      <td>NaN</td>\n",
       "      <td>4.400128</td>\n",
       "      <td>NaN</td>\n",
       "      <td>26.343200</td>\n",
       "      <td>NaN</td>\n",
       "      <td>5.226620e+06</td>\n",
       "    </tr>\n",
       "    <tr>\n",
       "      <th>min</th>\n",
       "      <td>NaN</td>\n",
       "      <td>NaN</td>\n",
       "      <td>0.000000</td>\n",
       "      <td>NaN</td>\n",
       "      <td>19.000000</td>\n",
       "      <td>NaN</td>\n",
       "      <td>161.000000</td>\n",
       "      <td>NaN</td>\n",
       "      <td>3.088800e+04</td>\n",
       "    </tr>\n",
       "    <tr>\n",
       "      <th>25%</th>\n",
       "      <td>NaN</td>\n",
       "      <td>NaN</td>\n",
       "      <td>5.000000</td>\n",
       "      <td>NaN</td>\n",
       "      <td>24.000000</td>\n",
       "      <td>NaN</td>\n",
       "      <td>200.000000</td>\n",
       "      <td>NaN</td>\n",
       "      <td>1.025210e+06</td>\n",
       "    </tr>\n",
       "    <tr>\n",
       "      <th>50%</th>\n",
       "      <td>NaN</td>\n",
       "      <td>NaN</td>\n",
       "      <td>13.000000</td>\n",
       "      <td>NaN</td>\n",
       "      <td>26.000000</td>\n",
       "      <td>NaN</td>\n",
       "      <td>220.000000</td>\n",
       "      <td>NaN</td>\n",
       "      <td>2.836186e+06</td>\n",
       "    </tr>\n",
       "    <tr>\n",
       "      <th>75%</th>\n",
       "      <td>NaN</td>\n",
       "      <td>NaN</td>\n",
       "      <td>25.000000</td>\n",
       "      <td>NaN</td>\n",
       "      <td>30.000000</td>\n",
       "      <td>NaN</td>\n",
       "      <td>240.000000</td>\n",
       "      <td>NaN</td>\n",
       "      <td>6.500000e+06</td>\n",
       "    </tr>\n",
       "    <tr>\n",
       "      <th>max</th>\n",
       "      <td>NaN</td>\n",
       "      <td>NaN</td>\n",
       "      <td>99.000000</td>\n",
       "      <td>NaN</td>\n",
       "      <td>40.000000</td>\n",
       "      <td>NaN</td>\n",
       "      <td>307.000000</td>\n",
       "      <td>NaN</td>\n",
       "      <td>2.500000e+07</td>\n",
       "    </tr>\n",
       "  </tbody>\n",
       "</table>\n",
       "</div>"
      ],
      "text/plain": [
       "                 Name                  Team      Number Position         Age  \\\n",
       "count             458                   458  458.000000      458  458.000000   \n",
       "unique            458                    30         NaN        5         NaN   \n",
       "top     Avery Bradley  New Orleans Pelicans         NaN       SG         NaN   \n",
       "freq                1                    19         NaN      102         NaN   \n",
       "mean              NaN                   NaN   17.713974      NaN   26.934498   \n",
       "std               NaN                   NaN   15.966837      NaN    4.400128   \n",
       "min               NaN                   NaN    0.000000      NaN   19.000000   \n",
       "25%               NaN                   NaN    5.000000      NaN   24.000000   \n",
       "50%               NaN                   NaN   13.000000      NaN   26.000000   \n",
       "75%               NaN                   NaN   25.000000      NaN   30.000000   \n",
       "max               NaN                   NaN   99.000000      NaN   40.000000   \n",
       "\n",
       "        Height      Weight   College        Salary  \n",
       "count      458  458.000000       374  4.470000e+02  \n",
       "unique      18         NaN       118           NaN  \n",
       "top     06-Sep         NaN  Kentucky           NaN  \n",
       "freq        59         NaN        22           NaN  \n",
       "mean       NaN  221.543668       NaN  4.833970e+06  \n",
       "std        NaN   26.343200       NaN  5.226620e+06  \n",
       "min        NaN  161.000000       NaN  3.088800e+04  \n",
       "25%        NaN  200.000000       NaN  1.025210e+06  \n",
       "50%        NaN  220.000000       NaN  2.836186e+06  \n",
       "75%        NaN  240.000000       NaN  6.500000e+06  \n",
       "max        NaN  307.000000       NaN  2.500000e+07  "
      ]
     },
     "execution_count": 12,
     "metadata": {},
     "output_type": "execute_result"
    }
   ],
   "source": [
    "df.describe(include='all')"
   ]
  },
  {
   "cell_type": "code",
   "execution_count": 13,
   "id": "f235cf98-6cb0-446f-9ab3-c474dc00a9dd",
   "metadata": {},
   "outputs": [
    {
     "data": {
      "text/plain": [
       "Name         0\n",
       "Team         0\n",
       "Number       0\n",
       "Position     0\n",
       "Age          0\n",
       "Height       0\n",
       "Weight       0\n",
       "College     84\n",
       "Salary      11\n",
       "dtype: int64"
      ]
     },
     "execution_count": 13,
     "metadata": {},
     "output_type": "execute_result"
    }
   ],
   "source": [
    "df.isnull().sum()"
   ]
  },
  {
   "cell_type": "code",
   "execution_count": 14,
   "id": "42586c2b-7b49-40bf-88b5-5acfc3212c21",
   "metadata": {},
   "outputs": [
    {
     "data": {
      "text/plain": [
       "0"
      ]
     },
     "execution_count": 14,
     "metadata": {},
     "output_type": "execute_result"
    }
   ],
   "source": [
    "df.duplicated().sum()"
   ]
  },
  {
   "cell_type": "code",
   "execution_count": 15,
   "id": "33677eff-cc7b-443c-93b8-9244bfc6daf2",
   "metadata": {},
   "outputs": [
    {
     "data": {
      "text/plain": [
       "Index(['Name', 'Team', 'Number', 'Position', 'Age', 'Height', 'Weight',\n",
       "       'College', 'Salary'],\n",
       "      dtype='object')"
      ]
     },
     "execution_count": 15,
     "metadata": {},
     "output_type": "execute_result"
    }
   ],
   "source": [
    "df.columns"
   ]
  },
  {
   "cell_type": "markdown",
   "id": "ec253faa-fd5c-4b1d-b437-ffe17ab6d841",
   "metadata": {},
   "source": [
    "changing the data of Height column with any random numbers between 150 and 180."
   ]
  },
  {
   "cell_type": "code",
   "execution_count": 16,
   "id": "4f64e107-68fd-4592-9f8f-62f3718d8f0d",
   "metadata": {},
   "outputs": [
    {
     "data": {
      "text/html": [
       "<div>\n",
       "<style scoped>\n",
       "    .dataframe tbody tr th:only-of-type {\n",
       "        vertical-align: middle;\n",
       "    }\n",
       "\n",
       "    .dataframe tbody tr th {\n",
       "        vertical-align: top;\n",
       "    }\n",
       "\n",
       "    .dataframe thead th {\n",
       "        text-align: right;\n",
       "    }\n",
       "</style>\n",
       "<table border=\"1\" class=\"dataframe\">\n",
       "  <thead>\n",
       "    <tr style=\"text-align: right;\">\n",
       "      <th></th>\n",
       "      <th>Name</th>\n",
       "      <th>Team</th>\n",
       "      <th>Number</th>\n",
       "      <th>Position</th>\n",
       "      <th>Age</th>\n",
       "      <th>Height</th>\n",
       "      <th>Weight</th>\n",
       "      <th>College</th>\n",
       "      <th>Salary</th>\n",
       "    </tr>\n",
       "  </thead>\n",
       "  <tbody>\n",
       "    <tr>\n",
       "      <th>0</th>\n",
       "      <td>Avery Bradley</td>\n",
       "      <td>Boston Celtics</td>\n",
       "      <td>0</td>\n",
       "      <td>PG</td>\n",
       "      <td>25</td>\n",
       "      <td>158</td>\n",
       "      <td>180</td>\n",
       "      <td>Texas</td>\n",
       "      <td>7730337.0</td>\n",
       "    </tr>\n",
       "    <tr>\n",
       "      <th>1</th>\n",
       "      <td>Jae Crowder</td>\n",
       "      <td>Boston Celtics</td>\n",
       "      <td>99</td>\n",
       "      <td>SF</td>\n",
       "      <td>25</td>\n",
       "      <td>167</td>\n",
       "      <td>235</td>\n",
       "      <td>Marquette</td>\n",
       "      <td>6796117.0</td>\n",
       "    </tr>\n",
       "    <tr>\n",
       "      <th>2</th>\n",
       "      <td>John Holland</td>\n",
       "      <td>Boston Celtics</td>\n",
       "      <td>30</td>\n",
       "      <td>SG</td>\n",
       "      <td>27</td>\n",
       "      <td>155</td>\n",
       "      <td>205</td>\n",
       "      <td>Boston University</td>\n",
       "      <td>NaN</td>\n",
       "    </tr>\n",
       "    <tr>\n",
       "      <th>3</th>\n",
       "      <td>R.J. Hunter</td>\n",
       "      <td>Boston Celtics</td>\n",
       "      <td>28</td>\n",
       "      <td>SG</td>\n",
       "      <td>22</td>\n",
       "      <td>170</td>\n",
       "      <td>185</td>\n",
       "      <td>Georgia State</td>\n",
       "      <td>1148640.0</td>\n",
       "    </tr>\n",
       "    <tr>\n",
       "      <th>4</th>\n",
       "      <td>Jonas Jerebko</td>\n",
       "      <td>Boston Celtics</td>\n",
       "      <td>8</td>\n",
       "      <td>PF</td>\n",
       "      <td>29</td>\n",
       "      <td>170</td>\n",
       "      <td>231</td>\n",
       "      <td>NaN</td>\n",
       "      <td>5000000.0</td>\n",
       "    </tr>\n",
       "    <tr>\n",
       "      <th>...</th>\n",
       "      <td>...</td>\n",
       "      <td>...</td>\n",
       "      <td>...</td>\n",
       "      <td>...</td>\n",
       "      <td>...</td>\n",
       "      <td>...</td>\n",
       "      <td>...</td>\n",
       "      <td>...</td>\n",
       "      <td>...</td>\n",
       "    </tr>\n",
       "    <tr>\n",
       "      <th>453</th>\n",
       "      <td>Shelvin Mack</td>\n",
       "      <td>Utah Jazz</td>\n",
       "      <td>8</td>\n",
       "      <td>PG</td>\n",
       "      <td>26</td>\n",
       "      <td>162</td>\n",
       "      <td>203</td>\n",
       "      <td>Butler</td>\n",
       "      <td>2433333.0</td>\n",
       "    </tr>\n",
       "    <tr>\n",
       "      <th>454</th>\n",
       "      <td>Raul Neto</td>\n",
       "      <td>Utah Jazz</td>\n",
       "      <td>25</td>\n",
       "      <td>PG</td>\n",
       "      <td>24</td>\n",
       "      <td>172</td>\n",
       "      <td>179</td>\n",
       "      <td>NaN</td>\n",
       "      <td>900000.0</td>\n",
       "    </tr>\n",
       "    <tr>\n",
       "      <th>455</th>\n",
       "      <td>Tibor Pleiss</td>\n",
       "      <td>Utah Jazz</td>\n",
       "      <td>21</td>\n",
       "      <td>C</td>\n",
       "      <td>26</td>\n",
       "      <td>177</td>\n",
       "      <td>256</td>\n",
       "      <td>NaN</td>\n",
       "      <td>2900000.0</td>\n",
       "    </tr>\n",
       "    <tr>\n",
       "      <th>456</th>\n",
       "      <td>Jeff Withey</td>\n",
       "      <td>Utah Jazz</td>\n",
       "      <td>24</td>\n",
       "      <td>C</td>\n",
       "      <td>26</td>\n",
       "      <td>164</td>\n",
       "      <td>231</td>\n",
       "      <td>Kansas</td>\n",
       "      <td>947276.0</td>\n",
       "    </tr>\n",
       "    <tr>\n",
       "      <th>457</th>\n",
       "      <td>Priyanka</td>\n",
       "      <td>Utah Jazz</td>\n",
       "      <td>34</td>\n",
       "      <td>C</td>\n",
       "      <td>25</td>\n",
       "      <td>157</td>\n",
       "      <td>231</td>\n",
       "      <td>Kansas</td>\n",
       "      <td>947276.0</td>\n",
       "    </tr>\n",
       "  </tbody>\n",
       "</table>\n",
       "<p>458 rows × 9 columns</p>\n",
       "</div>"
      ],
      "text/plain": [
       "              Name            Team  Number Position  Age  Height  Weight  \\\n",
       "0    Avery Bradley  Boston Celtics       0       PG   25     158     180   \n",
       "1      Jae Crowder  Boston Celtics      99       SF   25     167     235   \n",
       "2     John Holland  Boston Celtics      30       SG   27     155     205   \n",
       "3      R.J. Hunter  Boston Celtics      28       SG   22     170     185   \n",
       "4    Jonas Jerebko  Boston Celtics       8       PF   29     170     231   \n",
       "..             ...             ...     ...      ...  ...     ...     ...   \n",
       "453   Shelvin Mack       Utah Jazz       8       PG   26     162     203   \n",
       "454      Raul Neto       Utah Jazz      25       PG   24     172     179   \n",
       "455   Tibor Pleiss       Utah Jazz      21        C   26     177     256   \n",
       "456    Jeff Withey       Utah Jazz      24        C   26     164     231   \n",
       "457       Priyanka       Utah Jazz      34        C   25     157     231   \n",
       "\n",
       "               College     Salary  \n",
       "0                Texas  7730337.0  \n",
       "1            Marquette  6796117.0  \n",
       "2    Boston University        NaN  \n",
       "3        Georgia State  1148640.0  \n",
       "4                  NaN  5000000.0  \n",
       "..                 ...        ...  \n",
       "453             Butler  2433333.0  \n",
       "454                NaN   900000.0  \n",
       "455                NaN  2900000.0  \n",
       "456             Kansas   947276.0  \n",
       "457             Kansas   947276.0  \n",
       "\n",
       "[458 rows x 9 columns]"
      ]
     },
     "execution_count": 16,
     "metadata": {},
     "output_type": "execute_result"
    }
   ],
   "source": [
    "df['Height']=np.random.randint(150,181,size=len(df))\n",
    "df\n",
    "                            "
   ]
  },
  {
   "cell_type": "markdown",
   "id": "1bf6c769-aca9-43c6-8516-cee185652209",
   "metadata": {},
   "source": [
    "**1.How many are there in each Team and the percentage splitting with respect to the total employees.**"
   ]
  },
  {
   "cell_type": "code",
   "execution_count": 27,
   "id": "001ee8d2-a623-406a-ad73-dce92db735ae",
   "metadata": {},
   "outputs": [
    {
     "name": "stdout",
     "output_type": "stream",
     "text": [
      "Number of employies in each team:\n"
     ]
    },
    {
     "data": {
      "text/plain": [
       "Team\n",
       "New Orleans Pelicans      19\n",
       "Memphis Grizzlies         18\n",
       "Utah Jazz                 16\n",
       "New York Knicks           16\n",
       "Milwaukee Bucks           16\n",
       "Brooklyn Nets             15\n",
       "Portland Trail Blazers    15\n",
       "Oklahoma City Thunder     15\n",
       "Denver Nuggets            15\n",
       "Washington Wizards        15\n",
       "Miami Heat                15\n",
       "Charlotte Hornets         15\n",
       "Atlanta Hawks             15\n",
       "San Antonio Spurs         15\n",
       "Houston Rockets           15\n",
       "Boston Celtics            15\n",
       "Indiana Pacers            15\n",
       "Detroit Pistons           15\n",
       "Cleveland Cavaliers       15\n",
       "Chicago Bulls             15\n",
       "Sacramento Kings          15\n",
       "Phoenix Suns              15\n",
       "Los Angeles Lakers        15\n",
       "Los Angeles Clippers      15\n",
       "Golden State Warriors     15\n",
       "Toronto Raptors           15\n",
       "Philadelphia 76ers        15\n",
       "Dallas Mavericks          15\n",
       "Orlando Magic             14\n",
       "Minnesota Timberwolves    14\n",
       "Name: count, dtype: int64"
      ]
     },
     "execution_count": 27,
     "metadata": {},
     "output_type": "execute_result"
    }
   ],
   "source": [
    "print(\"Number of employies in each team:\")\n",
    "t=df['Team'].value_counts()\n",
    "t"
   ]
  },
  {
   "cell_type": "code",
   "execution_count": 20,
   "id": "8dc4c838-308c-49c5-9c78-935ca0a1da03",
   "metadata": {},
   "outputs": [
    {
     "name": "stdout",
     "output_type": "stream",
     "text": [
      "Percentage of each team:\n"
     ]
    },
    {
     "data": {
      "text/plain": [
       "Team\n",
       "New Orleans Pelicans      4.148472\n",
       "Memphis Grizzlies         3.930131\n",
       "Utah Jazz                 3.493450\n",
       "New York Knicks           3.493450\n",
       "Milwaukee Bucks           3.493450\n",
       "Brooklyn Nets             3.275109\n",
       "Portland Trail Blazers    3.275109\n",
       "Oklahoma City Thunder     3.275109\n",
       "Denver Nuggets            3.275109\n",
       "Washington Wizards        3.275109\n",
       "Miami Heat                3.275109\n",
       "Charlotte Hornets         3.275109\n",
       "Atlanta Hawks             3.275109\n",
       "San Antonio Spurs         3.275109\n",
       "Houston Rockets           3.275109\n",
       "Boston Celtics            3.275109\n",
       "Indiana Pacers            3.275109\n",
       "Detroit Pistons           3.275109\n",
       "Cleveland Cavaliers       3.275109\n",
       "Chicago Bulls             3.275109\n",
       "Sacramento Kings          3.275109\n",
       "Phoenix Suns              3.275109\n",
       "Los Angeles Lakers        3.275109\n",
       "Los Angeles Clippers      3.275109\n",
       "Golden State Warriors     3.275109\n",
       "Toronto Raptors           3.275109\n",
       "Philadelphia 76ers        3.275109\n",
       "Dallas Mavericks          3.275109\n",
       "Orlando Magic             3.056769\n",
       "Minnesota Timberwolves    3.056769\n",
       "Name: count, dtype: float64"
      ]
     },
     "execution_count": 20,
     "metadata": {},
     "output_type": "execute_result"
    }
   ],
   "source": [
    "print(\"Percentage of each team:\")\n",
    "p=(t/len(df))*100\n",
    "p"
   ]
  },
  {
   "cell_type": "markdown",
   "id": "8e4977bd-b636-48cd-8f97-ae579b923199",
   "metadata": {},
   "source": [
    "**2.Segregate the employees w.r.t different positions.**"
   ]
  },
  {
   "cell_type": "code",
   "execution_count": 28,
   "id": "94622836-2eff-482c-9cb6-c0d6aedef6f8",
   "metadata": {},
   "outputs": [
    {
     "name": "stdout",
     "output_type": "stream",
     "text": [
      "Number of employees in each positions:\n"
     ]
    },
    {
     "data": {
      "text/plain": [
       "Position\n",
       "SG    102\n",
       "PF    100\n",
       "PG     92\n",
       "SF     85\n",
       "C      79\n",
       "Name: count, dtype: int64"
      ]
     },
     "execution_count": 28,
     "metadata": {},
     "output_type": "execute_result"
    }
   ],
   "source": [
    "print(\"Number of employees in each positions:\")\n",
    "df['Position'].value_counts()"
   ]
  },
  {
   "cell_type": "code",
   "execution_count": 24,
   "id": "00431ca0-1982-4d93-ab86-6bdf8d7bf0b6",
   "metadata": {},
   "outputs": [
    {
     "name": "stdout",
     "output_type": "stream",
     "text": [
      "Segregate the employees w.r.t different positions:\n"
     ]
    },
    {
     "data": {
      "text/plain": [
       "[('C',\n",
       "  7         Kelly Olynyk\n",
       "  10     Jared Sullinger\n",
       "  14        Tyler Zeller\n",
       "  23         Brook Lopez\n",
       "  27          Henry Sims\n",
       "              ...       \n",
       "  439      Mason Plumlee\n",
       "  447        Rudy Gobert\n",
       "  455       Tibor Pleiss\n",
       "  456        Jeff Withey\n",
       "  457           Priyanka\n",
       "  Name: Name, Length: 79, dtype: object),\n",
       " ('PF',\n",
       "  4         Jonas Jerebko\n",
       "  5          Amir Johnson\n",
       "  6         Jordan Mickey\n",
       "  24     Chris McCullough\n",
       "  25          Willie Reed\n",
       "               ...       \n",
       "  435      Meyers Leonard\n",
       "  441         Noah Vonleh\n",
       "  442       Trevor Booker\n",
       "  446      Derrick Favors\n",
       "  452          Trey Lyles\n",
       "  Name: Name, Length: 100, dtype: object),\n",
       " ('PG',\n",
       "  0      Avery Bradley\n",
       "  8       Terry Rozier\n",
       "  9       Marcus Smart\n",
       "  11     Isaiah Thomas\n",
       "  19      Jarrett Jack\n",
       "             ...      \n",
       "  440    Brian Roberts\n",
       "  443       Trey Burke\n",
       "  445       Dante Exum\n",
       "  453     Shelvin Mack\n",
       "  454        Raul Neto\n",
       "  Name: Name, Length: 92, dtype: object),\n",
       " ('SF',\n",
       "  1                 Jae Crowder\n",
       "  32     Thanasis Antetokounmpo\n",
       "  33            Carmelo Anthony\n",
       "  35           Cleanthony Early\n",
       "  42               Lance Thomas\n",
       "                  ...          \n",
       "  428           Al-Farouq Aminu\n",
       "  432          Maurice Harkless\n",
       "  448            Gordon Hayward\n",
       "  450                Joe Ingles\n",
       "  451             Chris Johnson\n",
       "  Name: Name, Length: 85, dtype: object),\n",
       " ('SG',\n",
       "  2          John Holland\n",
       "  3           R.J. Hunter\n",
       "  12          Evan Turner\n",
       "  13          James Young\n",
       "  15     Bojan Bogdanovic\n",
       "               ...       \n",
       "  433    Gerald Henderson\n",
       "  437       C.J. McCollum\n",
       "  438        Luis Montero\n",
       "  444          Alec Burks\n",
       "  449         Rodney Hood\n",
       "  Name: Name, Length: 102, dtype: object)]"
      ]
     },
     "execution_count": 24,
     "metadata": {},
     "output_type": "execute_result"
    }
   ],
   "source": [
    "print(\"Segregate the employees w.r.t different positions:\")\n",
    "s=df.groupby('Position')['Name']\n",
    "list(s)"
   ]
  },
  {
   "cell_type": "markdown",
   "id": "5de748c2-8cb4-4c99-8512-3f3c181f09e9",
   "metadata": {},
   "source": [
    "**3.Find from which age group most of the employees belong to.**"
   ]
  },
  {
   "cell_type": "code",
   "execution_count": 29,
   "id": "ccb235f6-b5ff-480d-b379-c65475241978",
   "metadata": {},
   "outputs": [
    {
     "name": "stdout",
     "output_type": "stream",
     "text": [
      "Number of employees in same age:\n"
     ]
    },
    {
     "data": {
      "text/plain": [
       "Age\n",
       "24    47\n",
       "25    46\n",
       "27    41\n",
       "23    41\n",
       "26    36\n",
       "28    31\n",
       "30    31\n",
       "29    28\n",
       "22    26\n",
       "31    22\n",
       "20    19\n",
       "21    19\n",
       "33    14\n",
       "32    13\n",
       "34    10\n",
       "36    10\n",
       "35     9\n",
       "37     4\n",
       "38     4\n",
       "40     3\n",
       "39     2\n",
       "19     2\n",
       "Name: count, dtype: int64"
      ]
     },
     "execution_count": 29,
     "metadata": {},
     "output_type": "execute_result"
    }
   ],
   "source": [
    "print(\"Number of employees in same age:\")\n",
    "df['Age'].value_counts()"
   ]
  },
  {
   "cell_type": "code",
   "execution_count": 32,
   "id": "db3c24e6-4c82-45d2-a3a9-860225a51635",
   "metadata": {},
   "outputs": [
    {
     "name": "stdout",
     "output_type": "stream",
     "text": [
      "Based on their age group:\n"
     ]
    },
    {
     "data": {
      "text/plain": [
       "0      20-25\n",
       "1      20-25\n",
       "2      25-30\n",
       "3      20-25\n",
       "4      25-30\n",
       "       ...  \n",
       "453    25-30\n",
       "454    20-25\n",
       "455    25-30\n",
       "456    25-30\n",
       "457    20-25\n",
       "Name: Age, Length: 458, dtype: category\n",
       "Categories (6, object): ['15-20' < '20-25' < '25-30' < '30-35' < '35-40' < '40-45']"
      ]
     },
     "execution_count": 32,
     "metadata": {},
     "output_type": "execute_result"
    }
   ],
   "source": [
    "print(\"Based on their age group:\")\n",
    "AG= pd.cut(df['Age'],bins=[15,20,25,30,35,40,45],labels=['15-20','20-25','25-30','30-35','35-40','40-45'])\n",
    "AG"
   ]
  },
  {
   "cell_type": "code",
   "execution_count": 33,
   "id": "b3aee9f2-85f1-44dc-9d30-13d1fdcd6049",
   "metadata": {},
   "outputs": [
    {
     "name": "stdout",
     "output_type": "stream",
     "text": [
      "Number of employees in same age group:\n"
     ]
    },
    {
     "data": {
      "text/plain": [
       "Age\n",
       "20-25    179\n",
       "25-30    167\n",
       "30-35     68\n",
       "35-40     23\n",
       "15-20     21\n",
       "40-45      0\n",
       "Name: count, dtype: int64"
      ]
     },
     "execution_count": 33,
     "metadata": {},
     "output_type": "execute_result"
    }
   ],
   "source": [
    "print(\"Number of employees in same age group:\")\n",
    "A=AG.value_counts()\n",
    "A"
   ]
  },
  {
   "cell_type": "code",
   "execution_count": 34,
   "id": "e3da2d06-0224-4d42-8963-c98ca33d93ec",
   "metadata": {},
   "outputs": [
    {
     "name": "stdout",
     "output_type": "stream",
     "text": [
      "Most of the employees belongs to the age group: 20-25\n"
     ]
    }
   ],
   "source": [
    "print(\"Most of the employees belongs to the age group:\",A.idxmax())"
   ]
  },
  {
   "cell_type": "markdown",
   "id": "c612406e-3e45-42ea-b191-93e4eb26f876",
   "metadata": {},
   "source": [
    "**4.Find out under which team and position, spending in terms of salary is high.**"
   ]
  },
  {
   "cell_type": "code",
   "execution_count": 35,
   "id": "9891d3ed-f075-4fde-88bf-53b8c00c9c35",
   "metadata": {},
   "outputs": [
    {
     "name": "stdout",
     "output_type": "stream",
     "text": [
      "Total salary of employees of different position in each team:\n"
     ]
    },
    {
     "data": {
      "text/plain": [
       "Team                Position\n",
       "Atlanta Hawks       C           22756250.0\n",
       "                    PF          23952268.0\n",
       "                    PG           9763400.0\n",
       "                    SF           6000000.0\n",
       "                    SG          10431032.0\n",
       "                                   ...    \n",
       "Washington Wizards  C           24490429.0\n",
       "                    PF          11300000.0\n",
       "                    PG          18022415.0\n",
       "                    SF          11158800.0\n",
       "                    SG          11356992.0\n",
       "Name: Salary, Length: 149, dtype: float64"
      ]
     },
     "execution_count": 35,
     "metadata": {},
     "output_type": "execute_result"
    }
   ],
   "source": [
    "print(\"Total salary of employees of different position in each team:\")\n",
    "salary=df.groupby(['Team','Position'])['Salary'].sum()\n",
    "salary"
   ]
  },
  {
   "cell_type": "code",
   "execution_count": 36,
   "id": "a3d964e5-466f-482d-a7c3-80e8c9437821",
   "metadata": {},
   "outputs": [
    {
     "name": "stdout",
     "output_type": "stream",
     "text": [
      "Team and position with the highest spending:\n"
     ]
    },
    {
     "data": {
      "text/plain": [
       "('Los Angeles Lakers', 'SF')"
      ]
     },
     "execution_count": 36,
     "metadata": {},
     "output_type": "execute_result"
    }
   ],
   "source": [
    "print(\"Team and position with the highest spending:\")\n",
    "salary.idxmax()"
   ]
  },
  {
   "cell_type": "code",
   "execution_count": 39,
   "id": "d94228b2-a526-43c6-8a52-93ee665da090",
   "metadata": {},
   "outputs": [
    {
     "name": "stdout",
     "output_type": "stream",
     "text": [
      "Highest spending in terms of salary: 31866445.0\n"
     ]
    }
   ],
   "source": [
    "print(\"Highest spending in terms of salary:\",salary.max())"
   ]
  },
  {
   "cell_type": "markdown",
   "id": "c5b97196-1b19-4c61-a7f2-aee66de0c6fe",
   "metadata": {},
   "source": [
    "**5.Find if there is any correlation between age and salary , represent it visually.**"
   ]
  },
  {
   "cell_type": "code",
   "execution_count": 42,
   "id": "f8a3a00d-5b35-4d0c-aadf-5d3cacbf6446",
   "metadata": {},
   "outputs": [
    {
     "name": "stdout",
     "output_type": "stream",
     "text": [
      "Correlation between age and salary is: 0.2140094122657097\n"
     ]
    }
   ],
   "source": [
    "cor=df['Age'].corr(df['Salary'])\n",
    "print(\"Correlation between age and salary is:\",cor)"
   ]
  },
  {
   "cell_type": "code",
   "execution_count": 51,
   "id": "2b45bec6-69f2-45af-ae0d-e4d4be4281b0",
   "metadata": {},
   "outputs": [
    {
     "data": {
      "image/png": "[encoded data removed]",
      "text/plain": [
       "<Figure size 640x480 with 1 Axes>"
      ]
     },
     "metadata": {},
     "output_type": "display_data"
    }
   ],
   "source": [
    "plt.scatter(df.Age,df.Salary,marker='o',color='b',edgecolor='r')\n",
    "plt.title('Correlation between Age and Salary',color='b')\n",
    "plt.xlabel('Age of the employee',color='r')\n",
    "plt.ylabel('Salary of the employee',color='r')\n",
    "plt.show()"
   ]
  },
  {
   "cell_type": "code",
   "execution_count": 59,
   "id": "2c35caf4-37da-48fc-8428-79ccb1bdbe40",
   "metadata": {},
   "outputs": [
    {
     "name": "stdout",
     "output_type": "stream",
     "text": [
      "Correlation matrrix:\n"
     ]
    },
    {
     "data": {
      "text/html": [
       "<div>\n",
       "<style scoped>\n",
       "    .dataframe tbody tr th:only-of-type {\n",
       "        vertical-align: middle;\n",
       "    }\n",
       "\n",
       "    .dataframe tbody tr th {\n",
       "        vertical-align: top;\n",
       "    }\n",
       "\n",
       "    .dataframe thead th {\n",
       "        text-align: right;\n",
       "    }\n",
       "</style>\n",
       "<table border=\"1\" class=\"dataframe\">\n",
       "  <thead>\n",
       "    <tr style=\"text-align: right;\">\n",
       "      <th></th>\n",
       "      <th>Age</th>\n",
       "      <th>Salary</th>\n",
       "    </tr>\n",
       "  </thead>\n",
       "  <tbody>\n",
       "    <tr>\n",
       "      <th>Age</th>\n",
       "      <td>1.000000</td>\n",
       "      <td>0.214009</td>\n",
       "    </tr>\n",
       "    <tr>\n",
       "      <th>Salary</th>\n",
       "      <td>0.214009</td>\n",
       "      <td>1.000000</td>\n",
       "    </tr>\n",
       "  </tbody>\n",
       "</table>\n",
       "</div>"
      ],
      "text/plain": [
       "             Age    Salary\n",
       "Age     1.000000  0.214009\n",
       "Salary  0.214009  1.000000"
      ]
     },
     "execution_count": 59,
     "metadata": {},
     "output_type": "execute_result"
    }
   ],
   "source": [
    "print(\"Correlation matrrix:\")\n",
    "corr_matrix=df[['Age','Salary']].corr()\n",
    "corr_matrix"
   ]
  },
  {
   "cell_type": "code",
   "execution_count": 61,
   "id": "64f8878d-5e03-48f3-bba4-35f08b281ead",
   "metadata": {},
   "outputs": [
    {
     "data": {
      "image/png": "[encoded data removed]",
      "text/plain": [
       "<Figure size 640x480 with 2 Axes>"
      ]
     },
     "metadata": {},
     "output_type": "display_data"
    }
   ],
   "source": [
    "sns.heatmap(corr_matrix,annot=True)\n",
    "plt.title('Correlation between Age and Salary',color='b')\n",
    "plt.show()"
   ]
  },
  {
   "cell_type": "code",
   "execution_count": null,
   "id": "c65b3974-76a5-49f2-ac78-21258b0dc8d5",
   "metadata": {},
   "outputs": [],
   "source": []
  }
 ],
 "metadata": {
  "kernelspec": {
   "display_name": "Python 3 (ipykernel)",
   "language": "python",
   "name": "python3"
  },
  "language_info": {
   "codemirror_mode": {
    "name": "ipython",
    "version": 3
   },
   "file_extension": ".py",
   "mimetype": "text/x-python",
   "name": "python",
   "nbconvert_exporter": "python",
   "pygments_lexer": "ipython3",
   "version": "3.12.1"
  }
 },
 "nbformat": 4,
 "nbformat_minor": 5
}
